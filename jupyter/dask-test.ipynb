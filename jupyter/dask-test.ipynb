{
 "cells": [
  {
   "cell_type": "markdown",
   "id": "97287ff0-4f34-435d-9f5b-515b3c8c5d1e",
   "metadata": {
    "tags": []
   },
   "source": [
    "# Testing Memory Usage of Dask\n",
    "\n",
    "## ESGF Data\n",
    "\n",
    "* http://esgf3.dkrz.de/thredds/fileServer/cmip6/CMIP/MPI-M/MPI-ESM1-2-HR/historical/r1i1p1f1/day/tas/gn/v20190710/tas_day_MPI-ESM1-2-HR_historical_r1i1p1f1_gn_19000101-19041231.nc\n",
    "\n",
    "## xarray\n",
    "\n",
    "* http://xarray.pydata.org/en/stable/user-guide/dask.html\n",
    "* http://stephanhoyer.com/2015/06/11/xray-dask-out-of-core-labeled-arrays/\n",
    "\n",
    "## Dask\n",
    "\n",
    "* https://blog.dask.org/2021/03/11/dask_memory_usage\n",
    "* https://docs.dask.org/en/latest/array-chunks.html\n",
    "* https://docs.dask.org/en/latest/dataframe-best-practices.html#repartition-to-reduce-overhead\n",
    "* https://coiled.io/tackling-unmanaged-memory-with-dask/\n",
    "* https://docs.dask.org/en/latest/diagnostics-distributed.html\n",
    "\n",
    "## Bugs\n",
    "\n",
    "* https://github.com/pydata/xarray/issues/3781\n",
    "* https://github.com/pydata/xarray/issues/3401\n",
    "\n",
    "## Memory profiler\n",
    "\n",
    "* https://pypi.org/project/dask_memusage/\n",
    "* https://pypi.org/project/filprofiler/\n",
    "* https://pypi.org/project/memory-profiler/"
   ]
  },
  {
   "cell_type": "code",
   "execution_count": null,
   "id": "df6d2595-ac3c-4178-9c0c-652c425d7730",
   "metadata": {},
   "outputs": [],
   "source": [
    "# https://pythonspeed.com/products/filmemoryprofiler/#profiling-in-jupyter\n",
    "#%load_ext filprofiler"
   ]
  },
  {
   "cell_type": "code",
   "execution_count": null,
   "id": "60815254-ed76-4f38-b384-1701e5f9537f",
   "metadata": {},
   "outputs": [],
   "source": [
    "import xarray as xr\n",
    "\n",
    "#xr.set_options(display_style='html')\n",
    "%matplotlib inline\n",
    "#%config InlineBackend.figure_format = 'retina' \n",
    "\n",
    "from bokeh.plotting import show\n",
    "from bokeh.io import output_notebook\n",
    "\n",
    "output_notebook()"
   ]
  },
  {
   "cell_type": "code",
   "execution_count": null,
   "id": "70928d53-8b8f-49e8-ae48-aac368d0d37d",
   "metadata": {},
   "outputs": [],
   "source": [
    "import dask\n",
    "\n",
    "# https://docs.dask.org/en/latest/setup/single-machine.html\n",
    "dask.config.set(\n",
    "    scheduler='single-threaded'\n",
    "    #scheduler='threads'\n",
    "    #scheduler='processes'\n",
    ")"
   ]
  },
  {
   "cell_type": "code",
   "execution_count": null,
   "id": "5889f25e-3820-4a42-9846-c5addc8f455e",
   "metadata": {},
   "outputs": [],
   "source": [
    "# http://xarray.pydata.org/en/stable/user-guide/dask.html#\n",
    "ds = xr.open_dataset(\n",
    "    \"data/tas_day_MPI-ESM1-2-HR_historical_r1i1p1f1_gn_19000101-19041231.nc\",\n",
    "    #chunks={\"time\": \"auto\"}\n",
    "    chunks={\"time\": 1}\n",
    ")\n",
    "ds"
   ]
  },
  {
   "cell_type": "code",
   "execution_count": null,
   "id": "fdcca7ca-9317-4529-bf82-1c2a4809bcd9",
   "metadata": {},
   "outputs": [],
   "source": [
    "ds = ds.unify_chunks()\n",
    "ds.chunks"
   ]
  },
  {
   "cell_type": "code",
   "execution_count": null,
   "id": "56b6493b-0cf0-4ac6-b73f-fa80a289d69c",
   "metadata": {},
   "outputs": [],
   "source": [
    "# ds.tas.sel(time='1900-01-01').squeeze().plot()"
   ]
  },
  {
   "cell_type": "code",
   "execution_count": null,
   "id": "41a93935-d3f0-400d-b591-beb2b8b3d57d",
   "metadata": {},
   "outputs": [],
   "source": [
    "delayed_obj = ds.to_netcdf(\"out.nc\", compute=False)"
   ]
  },
  {
   "cell_type": "code",
   "execution_count": null,
   "id": "da09b17d-8064-4b04-987e-8b7bf5929550",
   "metadata": {},
   "outputs": [],
   "source": [
    "# https://docs.dask.org/en/latest/diagnostics-local.html\n",
    "from dask.diagnostics import ProgressBar, ResourceProfiler\n",
    "with ProgressBar(), ResourceProfiler() as rprof:\n",
    "    delayed_obj.compute()\n"
   ]
  },
  {
   "cell_type": "code",
   "execution_count": null,
   "id": "a94ae927-ac82-45e5-b9af-c22c230c0a4c",
   "metadata": {},
   "outputs": [],
   "source": [
    "from bokeh.plotting import show\n",
    "from bokeh.io import output_notebook\n",
    "\n",
    "output_notebook()\n"
   ]
  },
  {
   "cell_type": "code",
   "execution_count": null,
   "id": "5a7842be-9ba2-4c62-a781-4535b800481c",
   "metadata": {},
   "outputs": [],
   "source": [
    "show(rprof.visualize())"
   ]
  }
 ],
 "metadata": {
  "kernelspec": {
   "display_name": "Python 3 (ipykernel)",
   "language": "python",
   "name": "python3"
  },
  "language_info": {
   "codemirror_mode": {
    "name": "ipython",
    "version": 3
   },
   "file_extension": ".py",
   "mimetype": "text/x-python",
   "name": "python",
   "nbconvert_exporter": "python",
   "pygments_lexer": "ipython3",
   "version": "3.9.6"
  }
 },
 "nbformat": 4,
 "nbformat_minor": 5
}
